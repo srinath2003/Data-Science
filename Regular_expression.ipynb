{
  "nbformat": 4,
  "nbformat_minor": 0,
  "metadata": {
    "colab": {
      "provenance": []
    },
    "kernelspec": {
      "name": "python3",
      "display_name": "Python 3"
    },
    "language_info": {
      "name": "python"
    }
  },
  "cells": [
    {
      "cell_type": "code",
      "execution_count": null,
      "metadata": {
        "id": "drVpcMADdBOJ"
      },
      "outputs": [],
      "source": [
        "import re\n"
      ]
    },
    {
      "cell_type": "code",
      "source": [
        "\n",
        "str = 'an example word:cat!!'\n",
        "match = re.search(r'word:\\w\\w\\w', str)\n",
        "if match:\n",
        "    print('found', match.group())\n",
        "elif match :\n",
        "    print('found')\n",
        "else:\n",
        "    print('did not find')"
      ],
      "metadata": {
        "colab": {
          "base_uri": "https://localhost:8080/"
        },
        "id": "AjtBeti6dG8o",
        "outputId": "f8f7c02c-6852-4d24-902d-ca3f315de6ab"
      },
      "execution_count": null,
      "outputs": [
        {
          "output_type": "stream",
          "name": "stdout",
          "text": [
            "found word:cat\n"
          ]
        }
      ]
    },
    {
      "cell_type": "code",
      "source": [
        "match = re.search(r'iii', 'piiig')\n",
        "match.group()\n",
        "\n",
        "\n",
        "\n",
        "\n",
        "\n",
        "\n",
        "\n"
      ],
      "metadata": {
        "colab": {
          "base_uri": "https://localhost:8080/",
          "height": 35
        },
        "id": "rH9FBEWSduk2",
        "outputId": "eff7e7c7-d0bb-409a-937b-4d95e7f4d682"
      },
      "execution_count": null,
      "outputs": [
        {
          "output_type": "execute_result",
          "data": {
            "text/plain": [
              "'iii'"
            ],
            "application/vnd.google.colaboratory.intrinsic+json": {
              "type": "string"
            }
          },
          "metadata": {},
          "execution_count": 10
        }
      ]
    },
    {
      "cell_type": "code",
      "source": [
        "match = re.search(r'igs', 'piiig')\n",
        "print(match)"
      ],
      "metadata": {
        "colab": {
          "base_uri": "https://localhost:8080/"
        },
        "id": "T6LThBs0eDsE",
        "outputId": "a38fdc37-04d3-422c-fc27-868196c9393d"
      },
      "execution_count": null,
      "outputs": [
        {
          "output_type": "stream",
          "name": "stdout",
          "text": [
            "None\n"
          ]
        }
      ]
    },
    {
      "cell_type": "code",
      "source": [
        "## . = any char but \\n\n",
        "match = re.search(r'..g', 'piiig')\n",
        "match.group()"
      ],
      "metadata": {
        "colab": {
          "base_uri": "https://localhost:8080/",
          "height": 35
        },
        "id": "QgNKnUtweDvi",
        "outputId": "bcf99b8a-c27e-4034-eabb-cb4a32da36d6"
      },
      "execution_count": null,
      "outputs": [
        {
          "output_type": "execute_result",
          "data": {
            "text/plain": [
              "'iig'"
            ],
            "application/vnd.google.colaboratory.intrinsic+json": {
              "type": "string"
            }
          },
          "metadata": {},
          "execution_count": 15
        }
      ]
    },
    {
      "cell_type": "code",
      "source": [
        "match"
      ],
      "metadata": {
        "colab": {
          "base_uri": "https://localhost:8080/"
        },
        "id": "tp3TXvYKelZI",
        "outputId": "c5038c7c-0763-410a-e117-90a0208b18ca"
      },
      "execution_count": null,
      "outputs": [
        {
          "output_type": "execute_result",
          "data": {
            "text/plain": [
              "<re.Match object; span=(2, 5), match='iig'>"
            ]
          },
          "metadata": {},
          "execution_count": 16
        }
      ]
    },
    {
      "cell_type": "code",
      "source": [
        "## \\d = digit char, \\w = word char\n",
        "match = re.search(r'\\d\\d\\d', 'p123g')\n",
        "match.group()"
      ],
      "metadata": {
        "colab": {
          "base_uri": "https://localhost:8080/",
          "height": 35
        },
        "id": "z7-MtR4SeDyy",
        "outputId": "90f03a70-da08-485d-9b4a-6de9a602d18b"
      },
      "execution_count": null,
      "outputs": [
        {
          "output_type": "execute_result",
          "data": {
            "text/plain": [
              "'123'"
            ],
            "application/vnd.google.colaboratory.intrinsic+json": {
              "type": "string"
            }
          },
          "metadata": {},
          "execution_count": 13
        }
      ]
    },
    {
      "cell_type": "code",
      "source": [
        "match = re.search(r'\\w\\w\\w', '@@abcd!!')\n",
        "match.group()"
      ],
      "metadata": {
        "colab": {
          "base_uri": "https://localhost:8080/",
          "height": 35
        },
        "id": "3UDdX2E2eD2I",
        "outputId": "2d8d4bed-893c-45ff-aa2e-1d2e7b5d85e8"
      },
      "execution_count": null,
      "outputs": [
        {
          "output_type": "execute_result",
          "data": {
            "text/plain": [
              "'abc'"
            ],
            "application/vnd.google.colaboratory.intrinsic+json": {
              "type": "string"
            }
          },
          "metadata": {},
          "execution_count": 17
        }
      ]
    },
    {
      "cell_type": "code",
      "source": [
        "\n",
        "\n",
        "## i+ = one or more i's, as many as possible.\n",
        "match = re.search(r'pi+', 'piiig')\n",
        "\n",
        "\n",
        "match.group()\n"
      ],
      "metadata": {
        "colab": {
          "base_uri": "https://localhost:8080/",
          "height": 35
        },
        "id": "xMJwCl9Ze4Hx",
        "outputId": "222df6e4-663c-4f9c-f32d-416ea39e71fa"
      },
      "execution_count": null,
      "outputs": [
        {
          "output_type": "execute_result",
          "data": {
            "text/plain": [
              "'piii'"
            ],
            "application/vnd.google.colaboratory.intrinsic+json": {
              "type": "string"
            }
          },
          "metadata": {},
          "execution_count": 19
        }
      ]
    },
    {
      "cell_type": "code",
      "source": [
        "\n",
        "## Finds the first/leftmost solution, and within it drives the +\n",
        "## as far as possible (aka 'leftmost and largest').\n",
        "## In this example, note that it does not get to the second set of i's.\n",
        "match = re.search(r'i+', 'piigiiii')\n",
        "\n",
        "match.group()"
      ],
      "metadata": {
        "colab": {
          "base_uri": "https://localhost:8080/",
          "height": 35
        },
        "id": "8kt8NnKae4qK",
        "outputId": "f484a7a7-6dbd-4226-d49d-f36820abae8e"
      },
      "execution_count": null,
      "outputs": [
        {
          "output_type": "execute_result",
          "data": {
            "text/plain": [
              "'ii'"
            ],
            "application/vnd.google.colaboratory.intrinsic+json": {
              "type": "string"
            }
          },
          "metadata": {},
          "execution_count": 21
        }
      ]
    },
    {
      "cell_type": "code",
      "source": [
        "\n",
        "## \\s* = zero or more whitespace chars\n",
        "## Here look for 3 digits, possibly separated by whitespace.\n",
        "match = re.search(r'\\d\\s*\\d\\s*\\d', 'xx1 2   3xx')\n",
        "\n",
        "\n",
        "\n",
        "match.group()"
      ],
      "metadata": {
        "colab": {
          "base_uri": "https://localhost:8080/",
          "height": 35
        },
        "id": "gyyGehfEe43p",
        "outputId": "19afacbd-fc21-42a5-fa8a-ef5410870757"
      },
      "execution_count": null,
      "outputs": [
        {
          "output_type": "execute_result",
          "data": {
            "text/plain": [
              "'1 2   3'"
            ],
            "application/vnd.google.colaboratory.intrinsic+json": {
              "type": "string"
            }
          },
          "metadata": {},
          "execution_count": 25
        }
      ]
    },
    {
      "cell_type": "code",
      "source": [
        "match = re.search(r'\\d\\s*\\d\\s*\\d', 'xx12  3xx')\n",
        "match.group()"
      ],
      "metadata": {
        "colab": {
          "base_uri": "https://localhost:8080/",
          "height": 35
        },
        "id": "VmVEfWLSfXy7",
        "outputId": "45d4edb8-3bcc-46fc-a4d0-620058c13696"
      },
      "execution_count": null,
      "outputs": [
        {
          "output_type": "execute_result",
          "data": {
            "text/plain": [
              "'12  3'"
            ],
            "application/vnd.google.colaboratory.intrinsic+json": {
              "type": "string"
            }
          },
          "metadata": {},
          "execution_count": 24
        }
      ]
    },
    {
      "cell_type": "code",
      "source": [
        "match = re.search(r'\\d\\s*\\d\\s*\\d', 'xx123xx')\n",
        "match.group()"
      ],
      "metadata": {
        "colab": {
          "base_uri": "https://localhost:8080/",
          "height": 35
        },
        "id": "zD29hWK4fX-5",
        "outputId": "81544b7a-99eb-4d90-f857-58105e59b616"
      },
      "execution_count": null,
      "outputs": [
        {
          "output_type": "execute_result",
          "data": {
            "text/plain": [
              "'123'"
            ],
            "application/vnd.google.colaboratory.intrinsic+json": {
              "type": "string"
            }
          },
          "metadata": {},
          "execution_count": 26
        }
      ]
    },
    {
      "cell_type": "code",
      "source": [
        "\n",
        "## ^ = matches the start of string, so this fails:\n",
        "match = re.search(r'^b\\w+', 'foobar')\n",
        "match.group()"
      ],
      "metadata": {
        "colab": {
          "base_uri": "https://localhost:8080/",
          "height": 211
        },
        "id": "fhrN2JI0e47W",
        "outputId": "4585b90f-3673-4254-f69d-b6df9909cf9b"
      },
      "execution_count": null,
      "outputs": [
        {
          "output_type": "error",
          "ename": "AttributeError",
          "evalue": "ignored",
          "traceback": [
            "\u001b[0;31m---------------------------------------------------------------------------\u001b[0m",
            "\u001b[0;31mAttributeError\u001b[0m                            Traceback (most recent call last)",
            "\u001b[0;32m<ipython-input-30-4a8155a1a84a>\u001b[0m in \u001b[0;36m<cell line: 3>\u001b[0;34m()\u001b[0m\n\u001b[1;32m      1\u001b[0m \u001b[0;31m## ^ = matches the start of string, so this fails:\u001b[0m\u001b[0;34m\u001b[0m\u001b[0;34m\u001b[0m\u001b[0m\n\u001b[1;32m      2\u001b[0m \u001b[0mmatch\u001b[0m \u001b[0;34m=\u001b[0m \u001b[0mre\u001b[0m\u001b[0;34m.\u001b[0m\u001b[0msearch\u001b[0m\u001b[0;34m(\u001b[0m\u001b[0;34mr'^b\\w+'\u001b[0m\u001b[0;34m,\u001b[0m \u001b[0;34m'foobar'\u001b[0m\u001b[0;34m)\u001b[0m\u001b[0;34m\u001b[0m\u001b[0;34m\u001b[0m\u001b[0m\n\u001b[0;32m----> 3\u001b[0;31m \u001b[0mmatch\u001b[0m\u001b[0;34m.\u001b[0m\u001b[0mgroup\u001b[0m\u001b[0;34m(\u001b[0m\u001b[0;34m)\u001b[0m\u001b[0;34m\u001b[0m\u001b[0;34m\u001b[0m\u001b[0m\n\u001b[0m",
            "\u001b[0;31mAttributeError\u001b[0m: 'NoneType' object has no attribute 'group'"
          ]
        }
      ]
    },
    {
      "cell_type": "code",
      "source": [
        "## but without the ^ it succeeds:\n",
        "match = re.search(r'b\\w+', 'foobar')\n",
        "match.group()"
      ],
      "metadata": {
        "colab": {
          "base_uri": "https://localhost:8080/",
          "height": 35
        },
        "id": "gdlFkiNBe4--",
        "outputId": "d527e5bc-6458-489b-8a71-7bc4a58b0e47"
      },
      "execution_count": null,
      "outputs": [
        {
          "output_type": "execute_result",
          "data": {
            "text/plain": [
              "'bar'"
            ],
            "application/vnd.google.colaboratory.intrinsic+json": {
              "type": "string"
            }
          },
          "metadata": {},
          "execution_count": 29
        }
      ]
    },
    {
      "cell_type": "code",
      "source": [
        "str = 'purple alice-b@google.com monkey dishwasher'\n",
        "match = re.search(r'\\w+@\\w+', str)\n",
        "if match:\n",
        "    print(match.group())"
      ],
      "metadata": {
        "colab": {
          "base_uri": "https://localhost:8080/"
        },
        "id": "ePdf2SrZe5Cc",
        "outputId": "1e26a6fc-5154-4140-d512-69170b1fb053"
      },
      "execution_count": null,
      "outputs": [
        {
          "output_type": "stream",
          "name": "stdout",
          "text": [
            "b@google\n"
          ]
        }
      ]
    },
    {
      "cell_type": "code",
      "source": [
        "str = 'purple alice-b@google.com monkey dishwasher'\n",
        "match = re.search(r'[\\w.-]+@[\\w.-]+', str)\n",
        "if match:\n",
        "    print(match.group())"
      ],
      "metadata": {
        "colab": {
          "base_uri": "https://localhost:8080/"
        },
        "id": "bvRvQLhMe5GG",
        "outputId": "7939635b-a9d7-44d7-a467-11b9fac42deb"
      },
      "execution_count": null,
      "outputs": [
        {
          "output_type": "stream",
          "name": "stdout",
          "text": [
            "alice-b@google.com\n"
          ]
        }
      ]
    },
    {
      "cell_type": "code",
      "source": [
        "str = 'purple alice-b@google.com monkey dishwasher'\n",
        "match = re.search('([\\w.-]+)@([\\w.-]+)', str)\n",
        "if match:\n",
        "    print(match.group())   ## 'alice-b@google.com' (the whole match)\n",
        "    print(match.group(1))  ## 'alice-b' (the username, group 1)\n",
        "    print(match.group(2))  ## 'google.com' (the host, group 2)"
      ],
      "metadata": {
        "colab": {
          "base_uri": "https://localhost:8080/"
        },
        "id": "XOWKtElxe5Jq",
        "outputId": "09e7433e-99db-4658-e0fb-cd3b5069eb3c"
      },
      "execution_count": null,
      "outputs": [
        {
          "output_type": "stream",
          "name": "stdout",
          "text": [
            "alice-b@google.com\n",
            "alice-b\n",
            "google.com\n"
          ]
        }
      ]
    },
    {
      "cell_type": "code",
      "source": [
        "## Suppose we have a text with many email addresses\n",
        "str = 'purple alice@google.com, blah monkey bob@abc.com blah dishwasher'\n",
        "\n",
        "## Here re.findall() returns a list of all the found email strings\n",
        "emails = re.findall(r'[\\w\\.-]+@[\\w\\.-]+', str) ## ['alice@google.com', 'bob@abc.com']\n",
        "for email in emails:\n",
        "    # do something with each found email string\n",
        "    print(email)"
      ],
      "metadata": {
        "colab": {
          "base_uri": "https://localhost:8080/"
        },
        "id": "bBCbXRPLgdSK",
        "outputId": "085d828a-b10e-4663-c240-e5ebb72afff1"
      },
      "execution_count": null,
      "outputs": [
        {
          "output_type": "stream",
          "name": "stdout",
          "text": [
            "alice@google.com\n",
            "bob@abc.com\n"
          ]
        }
      ]
    },
    {
      "cell_type": "code",
      "source": [
        "# Open file\n",
        "with open('foo.txt', 'r') as f:\n",
        "  text = f.read()\n",
        "\n",
        "strings = re.findall(r'another', text)\n",
        "print(strings)"
      ],
      "metadata": {
        "colab": {
          "base_uri": "https://localhost:8080/",
          "height": 245
        },
        "id": "FYkMc3I_ggl4",
        "outputId": "d470351d-271d-4ea9-cf6c-074d04176335"
      },
      "execution_count": null,
      "outputs": [
        {
          "output_type": "error",
          "ename": "FileNotFoundError",
          "evalue": "ignored",
          "traceback": [
            "\u001b[0;31m---------------------------------------------------------------------------\u001b[0m",
            "\u001b[0;31mFileNotFoundError\u001b[0m                         Traceback (most recent call last)",
            "\u001b[0;32m<ipython-input-35-ac2b6e513c38>\u001b[0m in \u001b[0;36m<cell line: 2>\u001b[0;34m()\u001b[0m\n\u001b[1;32m      1\u001b[0m \u001b[0;31m# Open file\u001b[0m\u001b[0;34m\u001b[0m\u001b[0;34m\u001b[0m\u001b[0m\n\u001b[0;32m----> 2\u001b[0;31m \u001b[0;32mwith\u001b[0m \u001b[0mopen\u001b[0m\u001b[0;34m(\u001b[0m\u001b[0;34m'foo.txt'\u001b[0m\u001b[0;34m,\u001b[0m \u001b[0;34m'r'\u001b[0m\u001b[0;34m)\u001b[0m \u001b[0;32mas\u001b[0m \u001b[0mf\u001b[0m\u001b[0;34m:\u001b[0m\u001b[0;34m\u001b[0m\u001b[0;34m\u001b[0m\u001b[0m\n\u001b[0m\u001b[1;32m      3\u001b[0m   \u001b[0mtext\u001b[0m \u001b[0;34m=\u001b[0m \u001b[0mf\u001b[0m\u001b[0;34m.\u001b[0m\u001b[0mread\u001b[0m\u001b[0;34m(\u001b[0m\u001b[0;34m)\u001b[0m\u001b[0;34m\u001b[0m\u001b[0;34m\u001b[0m\u001b[0m\n\u001b[1;32m      4\u001b[0m \u001b[0;34m\u001b[0m\u001b[0m\n\u001b[1;32m      5\u001b[0m \u001b[0mstrings\u001b[0m \u001b[0;34m=\u001b[0m \u001b[0mre\u001b[0m\u001b[0;34m.\u001b[0m\u001b[0mfindall\u001b[0m\u001b[0;34m(\u001b[0m\u001b[0;34mr'another'\u001b[0m\u001b[0;34m,\u001b[0m \u001b[0mtext\u001b[0m\u001b[0;34m)\u001b[0m\u001b[0;34m\u001b[0m\u001b[0;34m\u001b[0m\u001b[0m\n",
            "\u001b[0;31mFileNotFoundError\u001b[0m: [Errno 2] No such file or directory: 'foo.txt'"
          ]
        }
      ]
    },
    {
      "cell_type": "code",
      "source": [
        "str = 'purple alice@google.com, blah monkey bob@abc.com blah dishwasher'\n",
        "\n",
        "tuples = re.findall(r'([\\w\\.-]+)@([\\w\\.-]+)', str)\n",
        "print(tuples)\n",
        "\n",
        "for tupl in tuples:\n",
        "    print(tupl[0])\n",
        "    print(tupl[1])"
      ],
      "metadata": {
        "colab": {
          "base_uri": "https://localhost:8080/"
        },
        "id": "CUaQ7KxFgkKM",
        "outputId": "e05ae3bd-9a57-4018-f725-69b2e713d0a8"
      },
      "execution_count": null,
      "outputs": [
        {
          "output_type": "stream",
          "name": "stdout",
          "text": [
            "[('alice', 'google.com'), ('bob', 'abc.com')]\n",
            "alice\n",
            "google.com\n",
            "bob\n",
            "abc.com\n"
          ]
        }
      ]
    },
    {
      "cell_type": "code",
      "source": [
        "str = 'purple alice@google.com, blah monkey bob@abc.com blah dishwasher'\n",
        "## re.sub(pat, replacement, str) -- returns new string with all replacements,\n",
        "## \\1 is group(1), \\2 group(2) in the replacement\n",
        "print(re.sub(r'([\\w\\.-]+)@([\\w\\.-]+)', r'\\1@yo-yo-dyne.com', str))"
      ],
      "metadata": {
        "colab": {
          "base_uri": "https://localhost:8080/"
        },
        "id": "pB5XPLqzgp3Q",
        "outputId": "5da8ed64-c8bc-45ca-92bc-0d42972211de"
      },
      "execution_count": null,
      "outputs": [
        {
          "output_type": "stream",
          "name": "stdout",
          "text": [
            "purple alice@yo-yo-dyne.com, blah monkey bob@yo-yo-dyne.com blah dishwasher\n"
          ]
        }
      ]
    }
  ]
}