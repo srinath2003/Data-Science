{
  "nbformat": 4,
  "nbformat_minor": 0,
  "metadata": {
    "colab": {
      "provenance": []
    },
    "kernelspec": {
      "name": "python3",
      "display_name": "Python 3"
    },
    "language_info": {
      "name": "python"
    }
  },
  "cells": [
    {
      "cell_type": "code",
      "execution_count": null,
      "metadata": {
        "colab": {
          "base_uri": "https://localhost:8080/"
        },
        "id": "s58vtVVw4UWj",
        "outputId": "d78a3d8f-42ab-4ba8-e0f8-3510a782559d"
      },
      "outputs": [
        {
          "output_type": "stream",
          "name": "stdout",
          "text": [
            "Using 'text': \n",
            "    This is some bold text.\n",
            "\n",
            "Using 'string': None\n"
          ]
        }
      ],
      "source": [
        "from bs4 import BeautifulSoup\n",
        "\n",
        "html = \"\"\"\n",
        "<div>\n",
        "    This is some <strong>bold</strong> text.\n",
        "</div>\n",
        "<p>\n",
        "  hello everyone\n",
        "</p>\n",
        "\"\"\"\n",
        "\n",
        "soup = BeautifulSoup(html, 'html.parser')\n",
        "div_element = soup.find('div')\n",
        "\n",
        "\n",
        "# Using the text attribute\n",
        "text_content = div_element.text\n",
        "print(\"Using 'text':\", text_content)  # Output: \"This is some bold text.\"\n",
        "\n",
        "# Using the string attribute\n",
        "string_content = div_element.string\n",
        "print(\"Using 'string':\", string_content)  # Output: None\n"
      ]
    },
    {
      "cell_type": "code",
      "source": [
        "from bs4 import BeautifulSoup\n",
        "\n",
        "html = \"\"\"\n",
        "<p>This is a <strong>strong</strong> example.</p>\n",
        "<p>Another paragraph with no strong tag.</p>\n",
        "\"\"\"\n",
        "\n",
        "soup = BeautifulSoup(html, 'html.parser')\n",
        "paragraphs = soup.find_all('p')\n",
        "\n",
        "for p in paragraphs:\n",
        "    text = p.string\n",
        "    if text is not None:\n",
        "        print(\"Direct text:\", text)\n",
        "    else:\n",
        "        print(\"No direct text\")\n"
      ],
      "metadata": {
        "colab": {
          "base_uri": "https://localhost:8080/"
        },
        "id": "MIyGsRkU5i5z",
        "outputId": "6080a099-020c-468e-aa5a-e00f20622570"
      },
      "execution_count": null,
      "outputs": [
        {
          "output_type": "stream",
          "name": "stdout",
          "text": [
            "No direct text\n",
            "Direct text: Another paragraph with no strong tag.\n"
          ]
        }
      ]
    }
  ]
}