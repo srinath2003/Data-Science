{
 "cells": [
  {
   "cell_type": "code",
   "execution_count": 268,
   "id": "47155ddf",
   "metadata": {},
   "outputs": [],
   "source": [
    "import matplotlib.pyplot as plt \n",
    "import pandas as pd \n",
    "import numpy as np\n",
    "#import seaborn as sb\n",
    "import json as js\n",
    "var= {}\n",
    "\n",
    "var[\"srinath\"]= {\n",
    "    \"name\" : \" sri\", \" mobile No.\" : 2377623 , \" location \" : \"pollachi\"\n",
    "}\n",
    "var[\"op\"]= {\n",
    "    \"name\" : \" op\", \" mobile No.\" : 342324 , \" location \" : \"cbe\"\n",
    "}\n"
   ]
  },
  {
   "cell_type": "code",
   "execution_count": 269,
   "id": "0b947722",
   "metadata": {},
   "outputs": [
    {
     "data": {
      "text/plain": [
       "dict"
      ]
     },
     "execution_count": 269,
     "metadata": {},
     "output_type": "execute_result"
    }
   ],
   "source": [
    "type(var)"
   ]
  },
  {
   "cell_type": "code",
   "execution_count": 270,
   "id": "be56c1ac",
   "metadata": {},
   "outputs": [
    {
     "data": {
      "text/plain": [
       "str"
      ]
     },
     "execution_count": 270,
     "metadata": {},
     "output_type": "execute_result"
    }
   ],
   "source": [
    "#the below func converts the dict to string\n",
    "s=js.dumps(var)\n",
    "type(s)"
   ]
  },
  {
   "cell_type": "code",
   "execution_count": 271,
   "id": "94a5912f",
   "metadata": {},
   "outputs": [],
   "source": [
    "with open(\"C:\\data\\srinathjson.txt\",\"w\") as f:\n",
    "    f.write(s)\n",
    "    # alternative f=open(\" file path \",\"w\")\n",
    "    # f.write(\" var naem that should be str\")"
   ]
  },
  {
   "cell_type": "code",
   "execution_count": 272,
   "id": "36ca7572",
   "metadata": {},
   "outputs": [],
   "source": [
    "with open(\"C:\\data\\srinathjson.txt\",\"r\") as f:\n",
    "    a=f.read()"
   ]
  },
  {
   "cell_type": "code",
   "execution_count": null,
   "id": "0923b61b",
   "metadata": {},
   "outputs": [
    {
     "name": "stdout",
     "output_type": "stream",
     "text": [
      "Enter a command(options: new,get,save): new\n",
      "Enter name of the personsrinath\n",
      "Phone number: 464564\n",
      "Address: fdgashfgd\n",
      "Enter a command(options: new,get,save): save\n"
     ]
    }
   ],
   "source": [
    "import json\n",
    "f = open(\"C:\\data\\srinathjson.txt\",\"w+\")\n",
    "phone_book = {}\n",
    "command = \"\"\n",
    "while command != 'exit':\n",
    "    command = input('Enter a command(options: new,get,save): ')\n",
    "    if command == \"new\":\n",
    "        name = input('Enter name of the person')\n",
    "        p = input('Phone number: ')\n",
    "        a = input('Address: ')\n",
    "        phone_book[name] = {'phone': p, 'address': a}\n",
    "    elif command == 'get':\n",
    "        name = input('Enter name of the person')\n",
    "        if name in phone_book:\n",
    "            print(phone_book[name])\n",
    "        else:\n",
    "            print('person not found in address book')\n",
    "    elif command == 'save':\n",
    "        f.write(json.dumps(phone_book))"
   ]
  },
  {
   "cell_type": "code",
   "execution_count": 273,
   "id": "7f5e6521",
   "metadata": {},
   "outputs": [
    {
     "data": {
      "text/plain": [
       "'{\"srinath\": {\"name\": \" sri\", \" mobile No.\": 2377623, \" location \": \"pollachi\"}, \"op\": {\"name\": \" op\", \" mobile No.\": 342324, \" location \": \"cbe\"}}'"
      ]
     },
     "execution_count": 273,
     "metadata": {},
     "output_type": "execute_result"
    }
   ],
   "source": [
    "a"
   ]
  },
  {
   "cell_type": "code",
   "execution_count": 274,
   "id": "b2df2425",
   "metadata": {},
   "outputs": [
    {
     "data": {
      "text/plain": [
       "str"
      ]
     },
     "execution_count": 274,
     "metadata": {},
     "output_type": "execute_result"
    }
   ],
   "source": [
    "type(a)"
   ]
  },
  {
   "cell_type": "code",
   "execution_count": 275,
   "id": "fe48b45c",
   "metadata": {},
   "outputs": [],
   "source": [
    "b=js.loads(a)"
   ]
  },
  {
   "cell_type": "code",
   "execution_count": 276,
   "id": "53c899cc",
   "metadata": {},
   "outputs": [
    {
     "data": {
      "text/plain": [
       "{'srinath': {'name': ' sri', ' mobile No.': 2377623, ' location ': 'pollachi'},\n",
       " 'op': {'name': ' op', ' mobile No.': 342324, ' location ': 'cbe'}}"
      ]
     },
     "execution_count": 276,
     "metadata": {},
     "output_type": "execute_result"
    }
   ],
   "source": [
    "b"
   ]
  },
  {
   "cell_type": "code",
   "execution_count": 277,
   "id": "b14c118b",
   "metadata": {},
   "outputs": [
    {
     "data": {
      "text/plain": [
       "dict"
      ]
     },
     "execution_count": 277,
     "metadata": {},
     "output_type": "execute_result"
    }
   ],
   "source": [
    "type(b)"
   ]
  },
  {
   "cell_type": "code",
   "execution_count": 278,
   "id": "b6b370e0",
   "metadata": {},
   "outputs": [],
   "source": [
    "df=pd.DataFrame(b)"
   ]
  },
  {
   "cell_type": "code",
   "execution_count": 279,
   "id": "71711610",
   "metadata": {},
   "outputs": [
    {
     "data": {
      "text/html": [
       "<div>\n",
       "<style scoped>\n",
       "    .dataframe tbody tr th:only-of-type {\n",
       "        vertical-align: middle;\n",
       "    }\n",
       "\n",
       "    .dataframe tbody tr th {\n",
       "        vertical-align: top;\n",
       "    }\n",
       "\n",
       "    .dataframe thead th {\n",
       "        text-align: right;\n",
       "    }\n",
       "</style>\n",
       "<table border=\"1\" class=\"dataframe\">\n",
       "  <thead>\n",
       "    <tr style=\"text-align: right;\">\n",
       "      <th></th>\n",
       "      <th>srinath</th>\n",
       "      <th>op</th>\n",
       "    </tr>\n",
       "  </thead>\n",
       "  <tbody>\n",
       "    <tr>\n",
       "      <th>name</th>\n",
       "      <td>sri</td>\n",
       "      <td>op</td>\n",
       "    </tr>\n",
       "    <tr>\n",
       "      <th>mobile No.</th>\n",
       "      <td>2377623</td>\n",
       "      <td>342324</td>\n",
       "    </tr>\n",
       "    <tr>\n",
       "      <th>location</th>\n",
       "      <td>pollachi</td>\n",
       "      <td>cbe</td>\n",
       "    </tr>\n",
       "  </tbody>\n",
       "</table>\n",
       "</div>"
      ],
      "text/plain": [
       "              srinath      op\n",
       "name              sri      op\n",
       " mobile No.   2377623  342324\n",
       " location    pollachi     cbe"
      ]
     },
     "execution_count": 279,
     "metadata": {},
     "output_type": "execute_result"
    }
   ],
   "source": [
    "df"
   ]
  },
  {
   "cell_type": "code",
   "execution_count": 280,
   "id": "332833e6",
   "metadata": {},
   "outputs": [
    {
     "data": {
      "text/plain": [
       "'cbe'"
      ]
     },
     "execution_count": 280,
     "metadata": {},
     "output_type": "execute_result"
    }
   ],
   "source": [
    "df[\"op\"][\" location \"]"
   ]
  },
  {
   "cell_type": "code",
   "execution_count": 281,
   "id": "d55390a0",
   "metadata": {},
   "outputs": [],
   "source": [
    "df=df.replace(\"cbe\",\"0\")"
   ]
  },
  {
   "cell_type": "code",
   "execution_count": 282,
   "id": "dd474b94",
   "metadata": {},
   "outputs": [],
   "source": [
    "df=df.replace(\"pollachi\",np.NaN)"
   ]
  },
  {
   "cell_type": "code",
   "execution_count": 283,
   "id": "1108463f",
   "metadata": {},
   "outputs": [
    {
     "data": {
      "text/html": [
       "<div>\n",
       "<style scoped>\n",
       "    .dataframe tbody tr th:only-of-type {\n",
       "        vertical-align: middle;\n",
       "    }\n",
       "\n",
       "    .dataframe tbody tr th {\n",
       "        vertical-align: top;\n",
       "    }\n",
       "\n",
       "    .dataframe thead th {\n",
       "        text-align: right;\n",
       "    }\n",
       "</style>\n",
       "<table border=\"1\" class=\"dataframe\">\n",
       "  <thead>\n",
       "    <tr style=\"text-align: right;\">\n",
       "      <th></th>\n",
       "      <th>srinath</th>\n",
       "      <th>op</th>\n",
       "    </tr>\n",
       "  </thead>\n",
       "  <tbody>\n",
       "    <tr>\n",
       "      <th>name</th>\n",
       "      <td>sri</td>\n",
       "      <td>op</td>\n",
       "    </tr>\n",
       "    <tr>\n",
       "      <th>mobile No.</th>\n",
       "      <td>2377623</td>\n",
       "      <td>342324</td>\n",
       "    </tr>\n",
       "    <tr>\n",
       "      <th>location</th>\n",
       "      <td>NaN</td>\n",
       "      <td>0</td>\n",
       "    </tr>\n",
       "  </tbody>\n",
       "</table>\n",
       "</div>"
      ],
      "text/plain": [
       "             srinath      op\n",
       "name             sri      op\n",
       " mobile No.  2377623  342324\n",
       " location        NaN       0"
      ]
     },
     "execution_count": 283,
     "metadata": {},
     "output_type": "execute_result"
    }
   ],
   "source": [
    "df"
   ]
  },
  {
   "cell_type": "code",
   "execution_count": 284,
   "id": "e65b620e",
   "metadata": {},
   "outputs": [
    {
     "data": {
      "text/plain": [
       "(float, str)"
      ]
     },
     "execution_count": 284,
     "metadata": {},
     "output_type": "execute_result"
    }
   ],
   "source": [
    "type(df[\"srinath\"][\" location \"]),type(df[\"op\"][\" location \"])"
   ]
  },
  {
   "cell_type": "code",
   "execution_count": 285,
   "id": "98f0937f",
   "metadata": {},
   "outputs": [
    {
     "data": {
      "text/html": [
       "<div>\n",
       "<style scoped>\n",
       "    .dataframe tbody tr th:only-of-type {\n",
       "        vertical-align: middle;\n",
       "    }\n",
       "\n",
       "    .dataframe tbody tr th {\n",
       "        vertical-align: top;\n",
       "    }\n",
       "\n",
       "    .dataframe thead th {\n",
       "        text-align: right;\n",
       "    }\n",
       "</style>\n",
       "<table border=\"1\" class=\"dataframe\">\n",
       "  <thead>\n",
       "    <tr style=\"text-align: right;\">\n",
       "      <th></th>\n",
       "      <th>srinath</th>\n",
       "      <th>op</th>\n",
       "    </tr>\n",
       "  </thead>\n",
       "  <tbody>\n",
       "    <tr>\n",
       "      <th>name</th>\n",
       "      <td>False</td>\n",
       "      <td>False</td>\n",
       "    </tr>\n",
       "    <tr>\n",
       "      <th>mobile No.</th>\n",
       "      <td>False</td>\n",
       "      <td>False</td>\n",
       "    </tr>\n",
       "    <tr>\n",
       "      <th>location</th>\n",
       "      <td>True</td>\n",
       "      <td>False</td>\n",
       "    </tr>\n",
       "  </tbody>\n",
       "</table>\n",
       "</div>"
      ],
      "text/plain": [
       "             srinath     op\n",
       "name           False  False\n",
       " mobile No.    False  False\n",
       " location       True  False"
      ]
     },
     "execution_count": 285,
     "metadata": {},
     "output_type": "execute_result"
    }
   ],
   "source": [
    "df.isnull()"
   ]
  },
  {
   "cell_type": "code",
   "execution_count": null,
   "id": "a4de8339",
   "metadata": {},
   "outputs": [],
   "source": []
  },
  {
   "cell_type": "code",
   "execution_count": 286,
   "id": "b2a9e80c",
   "metadata": {},
   "outputs": [
    {
     "data": {
      "text/html": [
       "<div>\n",
       "<style scoped>\n",
       "    .dataframe tbody tr th:only-of-type {\n",
       "        vertical-align: middle;\n",
       "    }\n",
       "\n",
       "    .dataframe tbody tr th {\n",
       "        vertical-align: top;\n",
       "    }\n",
       "\n",
       "    .dataframe thead th {\n",
       "        text-align: right;\n",
       "    }\n",
       "</style>\n",
       "<table border=\"1\" class=\"dataframe\">\n",
       "  <thead>\n",
       "    <tr style=\"text-align: right;\">\n",
       "      <th></th>\n",
       "      <th>srinath</th>\n",
       "      <th>op</th>\n",
       "    </tr>\n",
       "  </thead>\n",
       "  <tbody>\n",
       "    <tr>\n",
       "      <th>name</th>\n",
       "      <td>sri</td>\n",
       "      <td>op</td>\n",
       "    </tr>\n",
       "    <tr>\n",
       "      <th>mobile No.</th>\n",
       "      <td>2377623</td>\n",
       "      <td>342324</td>\n",
       "    </tr>\n",
       "  </tbody>\n",
       "</table>\n",
       "</div>"
      ],
      "text/plain": [
       "             srinath      op\n",
       "name             sri      op\n",
       " mobile No.  2377623  342324"
      ]
     },
     "execution_count": 286,
     "metadata": {},
     "output_type": "execute_result"
    }
   ],
   "source": [
    "df.dropna()"
   ]
  },
  {
   "cell_type": "code",
   "execution_count": 287,
   "id": "b1764b3b",
   "metadata": {},
   "outputs": [
    {
     "data": {
      "text/html": [
       "<div>\n",
       "<style scoped>\n",
       "    .dataframe tbody tr th:only-of-type {\n",
       "        vertical-align: middle;\n",
       "    }\n",
       "\n",
       "    .dataframe tbody tr th {\n",
       "        vertical-align: top;\n",
       "    }\n",
       "\n",
       "    .dataframe thead th {\n",
       "        text-align: right;\n",
       "    }\n",
       "</style>\n",
       "<table border=\"1\" class=\"dataframe\">\n",
       "  <thead>\n",
       "    <tr style=\"text-align: right;\">\n",
       "      <th></th>\n",
       "      <th>srinath</th>\n",
       "      <th>op</th>\n",
       "    </tr>\n",
       "  </thead>\n",
       "  <tbody>\n",
       "    <tr>\n",
       "      <th>name</th>\n",
       "      <td>sri</td>\n",
       "      <td>op</td>\n",
       "    </tr>\n",
       "    <tr>\n",
       "      <th>mobile No.</th>\n",
       "      <td>2377623</td>\n",
       "      <td>342324</td>\n",
       "    </tr>\n",
       "    <tr>\n",
       "      <th>location</th>\n",
       "      <td>0</td>\n",
       "      <td>0</td>\n",
       "    </tr>\n",
       "  </tbody>\n",
       "</table>\n",
       "</div>"
      ],
      "text/plain": [
       "             srinath      op\n",
       "name             sri      op\n",
       " mobile No.  2377623  342324\n",
       " location          0       0"
      ]
     },
     "execution_count": 287,
     "metadata": {},
     "output_type": "execute_result"
    }
   ],
   "source": [
    "df.fillna(\"0\")"
   ]
  },
  {
   "cell_type": "code",
   "execution_count": 288,
   "id": "4c9f037c",
   "metadata": {},
   "outputs": [],
   "source": [
    "#df.interpolate(method='linear')"
   ]
  },
  {
   "cell_type": "code",
   "execution_count": 289,
   "id": "7968b324",
   "metadata": {},
   "outputs": [
    {
     "data": {
      "text/plain": [
       "pandas.core.series.Series"
      ]
     },
     "execution_count": 289,
     "metadata": {},
     "output_type": "execute_result"
    }
   ],
   "source": [
    "type(df['srinath'])"
   ]
  },
  {
   "cell_type": "code",
   "execution_count": null,
   "id": "0293809d",
   "metadata": {},
   "outputs": [],
   "source": []
  },
  {
   "cell_type": "code",
   "execution_count": 290,
   "id": "addf257d",
   "metadata": {},
   "outputs": [],
   "source": [
    "#new data set\n",
    "data = {\n",
    "    'name': ['srinath', 'op'],\n",
    "    'mobile No.': ['2377623', '342324'],\n",
    "    'location': ['0', '0']\n",
    "}\n",
    "df_new = pd.DataFrame(data)"
   ]
  },
  {
   "cell_type": "code",
   "execution_count": 291,
   "id": "de036197",
   "metadata": {},
   "outputs": [
    {
     "data": {
      "text/plain": [
       "0    srinath\n",
       "1         op\n",
       "Name: name, dtype: object"
      ]
     },
     "execution_count": 291,
     "metadata": {},
     "output_type": "execute_result"
    }
   ],
   "source": [
    "df_new['name']"
   ]
  },
  {
   "cell_type": "code",
   "execution_count": 292,
   "id": "ae2d01d3",
   "metadata": {},
   "outputs": [],
   "source": [
    "df_new.set_index(\"name\",inplace = True)"
   ]
  },
  {
   "cell_type": "code",
   "execution_count": 293,
   "id": "dbc27609",
   "metadata": {},
   "outputs": [
    {
     "data": {
      "text/html": [
       "<div>\n",
       "<style scoped>\n",
       "    .dataframe tbody tr th:only-of-type {\n",
       "        vertical-align: middle;\n",
       "    }\n",
       "\n",
       "    .dataframe tbody tr th {\n",
       "        vertical-align: top;\n",
       "    }\n",
       "\n",
       "    .dataframe thead th {\n",
       "        text-align: right;\n",
       "    }\n",
       "</style>\n",
       "<table border=\"1\" class=\"dataframe\">\n",
       "  <thead>\n",
       "    <tr style=\"text-align: right;\">\n",
       "      <th></th>\n",
       "      <th>mobile No.</th>\n",
       "      <th>location</th>\n",
       "    </tr>\n",
       "    <tr>\n",
       "      <th>name</th>\n",
       "      <th></th>\n",
       "      <th></th>\n",
       "    </tr>\n",
       "  </thead>\n",
       "  <tbody>\n",
       "    <tr>\n",
       "      <th>srinath</th>\n",
       "      <td>2377623</td>\n",
       "      <td>0</td>\n",
       "    </tr>\n",
       "    <tr>\n",
       "      <th>op</th>\n",
       "      <td>342324</td>\n",
       "      <td>0</td>\n",
       "    </tr>\n",
       "  </tbody>\n",
       "</table>\n",
       "</div>"
      ],
      "text/plain": [
       "        mobile No. location\n",
       "name                       \n",
       "srinath    2377623        0\n",
       "op          342324        0"
      ]
     },
     "execution_count": 293,
     "metadata": {},
     "output_type": "execute_result"
    }
   ],
   "source": [
    "df_new"
   ]
  },
  {
   "cell_type": "code",
   "execution_count": 294,
   "id": "397fa9df",
   "metadata": {},
   "outputs": [
    {
     "data": {
      "text/plain": [
       "Index(['srinath', 'op'], dtype='object', name='name')"
      ]
     },
     "execution_count": 294,
     "metadata": {},
     "output_type": "execute_result"
    }
   ],
   "source": [
    "df_new.index"
   ]
  },
  {
   "cell_type": "code",
   "execution_count": 295,
   "id": "d7c22589",
   "metadata": {},
   "outputs": [],
   "source": [
    "lst = ['a', 'b', 'c']"
   ]
  },
  {
   "cell_type": "code",
   "execution_count": 296,
   "id": "8d7f8c0b",
   "metadata": {},
   "outputs": [
    {
     "data": {
      "text/html": [
       "<div>\n",
       "<style scoped>\n",
       "    .dataframe tbody tr th:only-of-type {\n",
       "        vertical-align: middle;\n",
       "    }\n",
       "\n",
       "    .dataframe tbody tr th {\n",
       "        vertical-align: top;\n",
       "    }\n",
       "\n",
       "    .dataframe thead th {\n",
       "        text-align: right;\n",
       "    }\n",
       "</style>\n",
       "<table border=\"1\" class=\"dataframe\">\n",
       "  <thead>\n",
       "    <tr style=\"text-align: right;\">\n",
       "      <th></th>\n",
       "      <th>mobile No.</th>\n",
       "      <th>location</th>\n",
       "    </tr>\n",
       "    <tr>\n",
       "      <th>name</th>\n",
       "      <th></th>\n",
       "      <th></th>\n",
       "    </tr>\n",
       "  </thead>\n",
       "  <tbody>\n",
       "    <tr>\n",
       "      <th>srinath</th>\n",
       "      <td>2377623</td>\n",
       "      <td>0</td>\n",
       "    </tr>\n",
       "    <tr>\n",
       "      <th>op</th>\n",
       "      <td>342324</td>\n",
       "      <td>0</td>\n",
       "    </tr>\n",
       "  </tbody>\n",
       "</table>\n",
       "</div>"
      ],
      "text/plain": [
       "        mobile No. location\n",
       "name                       \n",
       "srinath    2377623        0\n",
       "op          342324        0"
      ]
     },
     "execution_count": 296,
     "metadata": {},
     "output_type": "execute_result"
    }
   ],
   "source": [
    "df_new.reindex(method='ffill')"
   ]
  },
  {
   "cell_type": "code",
   "execution_count": 297,
   "id": "055539a5",
   "metadata": {},
   "outputs": [
    {
     "data": {
      "text/html": [
       "<div>\n",
       "<style scoped>\n",
       "    .dataframe tbody tr th:only-of-type {\n",
       "        vertical-align: middle;\n",
       "    }\n",
       "\n",
       "    .dataframe tbody tr th {\n",
       "        vertical-align: top;\n",
       "    }\n",
       "\n",
       "    .dataframe thead th {\n",
       "        text-align: right;\n",
       "    }\n",
       "</style>\n",
       "<table border=\"1\" class=\"dataframe\">\n",
       "  <thead>\n",
       "    <tr style=\"text-align: right;\">\n",
       "      <th></th>\n",
       "      <th>mobile No.</th>\n",
       "      <th>location</th>\n",
       "    </tr>\n",
       "    <tr>\n",
       "      <th>name</th>\n",
       "      <th></th>\n",
       "      <th></th>\n",
       "    </tr>\n",
       "  </thead>\n",
       "  <tbody>\n",
       "    <tr>\n",
       "      <th>srinath</th>\n",
       "      <td>2377623</td>\n",
       "      <td>0</td>\n",
       "    </tr>\n",
       "    <tr>\n",
       "      <th>op</th>\n",
       "      <td>342324</td>\n",
       "      <td>0</td>\n",
       "    </tr>\n",
       "  </tbody>\n",
       "</table>\n",
       "</div>"
      ],
      "text/plain": [
       "        mobile No. location\n",
       "name                       \n",
       "srinath    2377623        0\n",
       "op          342324        0"
      ]
     },
     "execution_count": 297,
     "metadata": {},
     "output_type": "execute_result"
    }
   ],
   "source": [
    "df_new\n"
   ]
  },
  {
   "cell_type": "code",
   "execution_count": 298,
   "id": "7b81d071",
   "metadata": {},
   "outputs": [
    {
     "data": {
      "text/plain": [
       "'0'"
      ]
     },
     "execution_count": 298,
     "metadata": {},
     "output_type": "execute_result"
    }
   ],
   "source": [
    "df_new['location'][1]"
   ]
  },
  {
   "cell_type": "code",
   "execution_count": 306,
   "id": "e8613045",
   "metadata": {},
   "outputs": [
    {
     "name": "stdout",
     "output_type": "stream",
     "text": [
      "['srinath', 'op']\n"
     ]
    }
   ],
   "source": [
    "print(df_new.index.tolist()) # lsit type"
   ]
  },
  {
   "cell_type": "code",
   "execution_count": 307,
   "id": "ce1ba538",
   "metadata": {},
   "outputs": [
    {
     "name": "stdout",
     "output_type": "stream",
     "text": [
      "['srinath' 'op']\n"
     ]
    }
   ],
   "source": [
    "print(df_new.index.values) # nd array type"
   ]
  },
  {
   "cell_type": "code",
   "execution_count": null,
   "id": "e282023c",
   "metadata": {},
   "outputs": [],
   "source": []
  }
 ],
 "metadata": {
  "kernelspec": {
   "display_name": "Python 3 (ipykernel)",
   "language": "python",
   "name": "python3"
  },
  "language_info": {
   "codemirror_mode": {
    "name": "ipython",
    "version": 3
   },
   "file_extension": ".py",
   "mimetype": "text/x-python",
   "name": "python",
   "nbconvert_exporter": "python",
   "pygments_lexer": "ipython3",
   "version": "3.8.0"
  }
 },
 "nbformat": 4,
 "nbformat_minor": 5
}
